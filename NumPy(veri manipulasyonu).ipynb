{
 "cells": [
  {
   "cell_type": "markdown",
   "id": "c24aaf4f",
   "metadata": {},
   "source": [
    "**kalin yazamak icin basina ve sonuna iki tane ** isareti koymalisin**"
   ]
  },
  {
   "cell_type": "code",
   "execution_count": 2,
   "id": "fc48f01d",
   "metadata": {},
   "outputs": [],
   "source": [
    "#shift + enter"
   ]
  },
  {
   "cell_type": "code",
   "execution_count": 6,
   "id": "ecb29e88",
   "metadata": {},
   "outputs": [],
   "source": [
    "# b tusu ile yeni hucre ekleyebiliriz, \n",
    "# dd ile hucre silme yapabiliriz\n",
    "# x ile hucre kesme\n",
    "# v tusu ile hucre yapistirma \n",
    "# c tusu ile hucre kopyalama\n",
    "# shifte basili tutup birden fazla hucre secip silebilirsin\n"
   ]
  },
  {
   "cell_type": "markdown",
   "id": "cb32beb8",
   "metadata": {},
   "source": [
    "# ANA BASLIK yapabilmek icin once markdown u secip # isareti yaparsin"
   ]
  },
  {
   "cell_type": "markdown",
   "id": "14f5e660",
   "metadata": {},
   "source": [
    "## alt baslik yapabilmek icin once markdown u secip ## isareti yaparsin\n"
   ]
  },
  {
   "cell_type": "markdown",
   "id": "024735da",
   "metadata": {},
   "source": [
    "* markdown yaptiktan sonra basina bir yildiz isareti koyunca maddeler halinde oluyor"
   ]
  },
  {
   "cell_type": "markdown",
   "id": "adf39e10",
   "metadata": {},
   "source": [
    "* **deniz**"
   ]
  },
  {
   "cell_type": "code",
   "execution_count": 1,
   "id": "2b9f5f38",
   "metadata": {},
   "outputs": [],
   "source": [
    "# np.array()\n",
    "# import numpy as np\n",
    "# np.array()   /*/\n",
    "# np.array([1,2,3,4], dtype = 'float32') /*/\n",
    "# np.zeros(10, dtype = int) /*/\n",
    "# np.ones((3,5), dtype = int) /*/\n",
    "# np.arange(0,31,3)\n",
    "# np.linspace(0,90,10)\n",
    "# np.random.normal(10,4,(3,4))\n",
    "# np.random.randint(3,12,(3,3))\n",
    "# np.full((3,5),4)\n",
    "# a = np.random.randint(10,size=10)\n",
    "# a.ndim\n",
    "# a.shape \n",
    "# a.size\n",
    "# a.dtype\n",
    "# np.arange(1,10).reshape((3,3)) \n",
    "# np.concatenate([x,y])\n",
    "# np.concatenate([b,b], axis = 1)\n",
    "# np.split(a,[2,5])\n",
    "# np.vsplit(b,[2])\n",
    "# np.hsplit(b,[1])\n",
    "# np.sort(k)\n",
    "# np.sort(k, axis = 1)\n",
    "# alt_l = l[0:2,1:2].copy()\n",
    "# np.log2(m)\n",
    "# x = np.linalg.solve(a,b) a x lerin katsayilari, b de sabit sayilar\n",
    "\n",
    "\n"
   ]
  },
  {
   "cell_type": "code",
   "execution_count": 7,
   "id": "6935862d",
   "metadata": {},
   "outputs": [
    {
     "data": {
      "text/plain": [
       "[2, 3, 4, 5]"
      ]
     },
     "execution_count": 7,
     "metadata": {},
     "output_type": "execute_result"
    }
   ],
   "source": [
    "a = [1,2,3,4]\n",
    "b = [2,3,4,5]\n",
    "a\n",
    "b"
   ]
  },
  {
   "cell_type": "code",
   "execution_count": 4,
   "id": "1eed07f1",
   "metadata": {},
   "outputs": [],
   "source": [
    "import numpy as np"
   ]
  },
  {
   "cell_type": "code",
   "execution_count": 13,
   "id": "1e0c5936",
   "metadata": {},
   "outputs": [],
   "source": [
    "a = np.array(a)  #array olusturmak icin bu sekilde..."
   ]
  },
  {
   "cell_type": "code",
   "execution_count": 10,
   "id": "2a3b3371",
   "metadata": {},
   "outputs": [],
   "source": [
    "b = np.array(b)"
   ]
  },
  {
   "cell_type": "code",
   "execution_count": 11,
   "id": "6ae0e23f",
   "metadata": {},
   "outputs": [
    {
     "data": {
      "text/plain": [
       "array([ 2,  6, 12, 20])"
      ]
     },
     "execution_count": 11,
     "metadata": {},
     "output_type": "execute_result"
    }
   ],
   "source": [
    "a*b"
   ]
  },
  {
   "cell_type": "code",
   "execution_count": 12,
   "id": "81d43d25",
   "metadata": {},
   "outputs": [],
   "source": [
    "#numpy her bir liste icin sadece bir tane veri tutarken diger uygulamalarda her bir eleman icin bir veri tutulur"
   ]
  },
  {
   "cell_type": "code",
   "execution_count": 15,
   "id": "34f88f33",
   "metadata": {},
   "outputs": [
    {
     "data": {
      "text/plain": [
       "array([1., 2., 3., 4.], dtype=float32)"
      ]
     },
     "execution_count": 15,
     "metadata": {},
     "output_type": "execute_result"
    }
   ],
   "source": [
    "np.array([1,2,3,4], dtype = 'float32') \n",
    "#boylece listenin veri tipini kendimiz de secebiliyoruz"
   ]
  },
  {
   "cell_type": "code",
   "execution_count": 25,
   "id": "00b73757",
   "metadata": {},
   "outputs": [
    {
     "data": {
      "text/plain": [
       "array([0, 0, 0, 0, 0, 0, 0, 0, 0, 0])"
      ]
     },
     "execution_count": 25,
     "metadata": {},
     "output_type": "execute_result"
    }
   ],
   "source": [
    "np.zeros(10, dtype = int)\n",
    "#10 tane 0'i int tipinde yaz demis olduk"
   ]
  },
  {
   "cell_type": "code",
   "execution_count": 26,
   "id": "e3418a20",
   "metadata": {},
   "outputs": [
    {
     "data": {
      "text/plain": [
       "array([[1, 1, 1, 1, 1],\n",
       "       [1, 1, 1, 1, 1],\n",
       "       [1, 1, 1, 1, 1]])"
      ]
     },
     "execution_count": 26,
     "metadata": {},
     "output_type": "execute_result"
    }
   ],
   "source": [
    "np.ones((3,5), dtype = int)\n",
    "#3 satir 5 sutun olacak sekilde int olan 1 leri dizi olustur\n"
   ]
  },
  {
   "cell_type": "code",
   "execution_count": 27,
   "id": "9084cb3d",
   "metadata": {},
   "outputs": [
    {
     "data": {
      "text/plain": [
       "array([ 0,  3,  6,  9, 12, 15, 18, 21, 24, 27, 30])"
      ]
     },
     "execution_count": 27,
     "metadata": {},
     "output_type": "execute_result"
    }
   ],
   "source": [
    "np.arange(0,31,3)\n",
    "# 0 ile 31 arasindaki sayilari 3 er 3 er arttirarak dizi olustur"
   ]
  },
  {
   "cell_type": "code",
   "execution_count": 28,
   "id": "e20b1938",
   "metadata": {},
   "outputs": [
    {
     "data": {
      "text/plain": [
       "array([ 0., 10., 20., 30., 40., 50., 60., 70., 80., 90.])"
      ]
     },
     "execution_count": 28,
     "metadata": {},
     "output_type": "execute_result"
    }
   ],
   "source": [
    "np.linspace(0,90,10)\n",
    "# 0 ile 90 arasinda 10 tane deger olustur dedigimizde homojen bir dizi uretir"
   ]
  },
  {
   "cell_type": "code",
   "execution_count": 29,
   "id": "38b13d30",
   "metadata": {},
   "outputs": [
    {
     "data": {
      "text/plain": [
       "array([[ 3.98999606, 10.45875001, 10.42875939,  6.91188008],\n",
       "       [ 8.26228747, 11.272245  ,  7.77862195,  8.21187788],\n",
       "       [11.58058149,  7.9301959 ,  6.02585708,  8.71613158]])"
      ]
     },
     "execution_count": 29,
     "metadata": {},
     "output_type": "execute_result"
    }
   ],
   "source": [
    "np.random.normal(10,4,(3,4))\n",
    "#normal dagilim olsun,ortalamasi 10, standart sapmasi 4, (3,4) satir ve sutun sayili bir array olusturmak icin"
   ]
  },
  {
   "cell_type": "code",
   "execution_count": 33,
   "id": "26f0fff5",
   "metadata": {},
   "outputs": [
    {
     "data": {
      "text/plain": [
       "array([[ 3, 11,  6],\n",
       "       [10, 10, 11],\n",
       "       [ 8,  9,  3]])"
      ]
     },
     "execution_count": 33,
     "metadata": {},
     "output_type": "execute_result"
    }
   ],
   "source": [
    "#dagilimi onemsemiyorum,3 ile 12 arasinda 3e 3 bir liste olustur dersem\n",
    "np.random.randint(3,12,(3,3))"
   ]
  },
  {
   "cell_type": "code",
   "execution_count": 34,
   "id": "623278ab",
   "metadata": {},
   "outputs": [
    {
     "data": {
      "text/plain": [
       "array([[4, 4, 4, 4, 4],\n",
       "       [4, 4, 4, 4, 4],\n",
       "       [4, 4, 4, 4, 4]])"
      ]
     },
     "execution_count": 34,
     "metadata": {},
     "output_type": "execute_result"
    }
   ],
   "source": [
    "np.full((3,5),4)\n",
    "#3 e 5 olacak sekilde 4 degeri ile fulle diziyi"
   ]
  },
  {
   "cell_type": "code",
   "execution_count": 39,
   "id": "e8c7fd98",
   "metadata": {},
   "outputs": [],
   "source": [
    "a = np.random.randint(10,size=10)\n",
    "#eger baslangic degeri vermezsen default 0 dan baslar"
   ]
  },
  {
   "cell_type": "code",
   "execution_count": 41,
   "id": "cd6d1645",
   "metadata": {},
   "outputs": [
    {
     "data": {
      "text/plain": [
       "1"
      ]
     },
     "execution_count": 41,
     "metadata": {},
     "output_type": "execute_result"
    }
   ],
   "source": [
    "a.ndim #boyut sayisi"
   ]
  },
  {
   "cell_type": "code",
   "execution_count": 43,
   "id": "cdabff09",
   "metadata": {},
   "outputs": [
    {
     "data": {
      "text/plain": [
       "(10,)"
      ]
     },
     "execution_count": 43,
     "metadata": {},
     "output_type": "execute_result"
    }
   ],
   "source": [
    "a.shape #bir boyutlu ve icerisinde 10 tane eleman var diyor"
   ]
  },
  {
   "cell_type": "code",
   "execution_count": 45,
   "id": "8b8f7fef",
   "metadata": {},
   "outputs": [
    {
     "data": {
      "text/plain": [
       "10"
      ]
     },
     "execution_count": 45,
     "metadata": {},
     "output_type": "execute_result"
    }
   ],
   "source": [
    "a.size #toplam eleman sayisini verir"
   ]
  },
  {
   "cell_type": "code",
   "execution_count": 47,
   "id": "8a5ac105",
   "metadata": {},
   "outputs": [
    {
     "data": {
      "text/plain": [
       "dtype('int64')"
      ]
     },
     "execution_count": 47,
     "metadata": {},
     "output_type": "execute_result"
    }
   ],
   "source": [
    "a.dtype #elemanlarin tipini verir"
   ]
  },
  {
   "cell_type": "code",
   "execution_count": 50,
   "id": "5d8e74a6",
   "metadata": {},
   "outputs": [
    {
     "data": {
      "text/plain": [
       "array([[1, 2, 3],\n",
       "       [4, 5, 6],\n",
       "       [7, 8, 9]])"
      ]
     },
     "execution_count": 50,
     "metadata": {},
     "output_type": "execute_result"
    }
   ],
   "source": [
    "np.arange(1,10).reshape((3,3)) \n",
    "#reshape ile tek boyutlu array 3 e 3 e donusturulebiliyor"
   ]
  },
  {
   "cell_type": "code",
   "execution_count": 51,
   "id": "b3a00ccc",
   "metadata": {},
   "outputs": [],
   "source": [
    "x= np.array([1,2,3])\n",
    "y = np.array([4,5,6])"
   ]
  },
  {
   "cell_type": "code",
   "execution_count": 52,
   "id": "6360e035",
   "metadata": {},
   "outputs": [
    {
     "data": {
      "text/plain": [
       "array([1, 2, 3, 4, 5, 6])"
      ]
     },
     "execution_count": 52,
     "metadata": {},
     "output_type": "execute_result"
    }
   ],
   "source": [
    "np.concatenate([x,y])"
   ]
  },
  {
   "cell_type": "code",
   "execution_count": 53,
   "id": "7cd7843c",
   "metadata": {},
   "outputs": [],
   "source": [
    "#peki yukaridaki birlestirmeyi iki boyutlu yaparsak;"
   ]
  },
  {
   "cell_type": "code",
   "execution_count": 56,
   "id": "43dc02d0",
   "metadata": {},
   "outputs": [],
   "source": [
    "b = np.array([[1,2,3],\n",
    "             [4,5,6]])"
   ]
  },
  {
   "cell_type": "code",
   "execution_count": 58,
   "id": "a4e2147d",
   "metadata": {},
   "outputs": [
    {
     "data": {
      "text/plain": [
       "array([[1, 2, 3],\n",
       "       [4, 5, 6],\n",
       "       [1, 2, 3],\n",
       "       [4, 5, 6]])"
      ]
     },
     "execution_count": 58,
     "metadata": {},
     "output_type": "execute_result"
    }
   ],
   "source": [
    "np.concatenate([b,b])"
   ]
  },
  {
   "cell_type": "code",
   "execution_count": 59,
   "id": "88be21b8",
   "metadata": {},
   "outputs": [],
   "source": [
    "#peki satir bazinda degil de sutun bazinda birlestirmek istersek;"
   ]
  },
  {
   "cell_type": "code",
   "execution_count": 62,
   "id": "d44ae2f3",
   "metadata": {},
   "outputs": [
    {
     "data": {
      "text/plain": [
       "array([[1, 2, 3, 1, 2, 3],\n",
       "       [4, 5, 6, 4, 5, 6]])"
      ]
     },
     "execution_count": 62,
     "metadata": {},
     "output_type": "execute_result"
    }
   ],
   "source": [
    "np.concatenate([b,b], axis = 1)\n",
    "#0= satir\n",
    "#1=sutun"
   ]
  },
  {
   "cell_type": "code",
   "execution_count": 63,
   "id": "b40950ec",
   "metadata": {},
   "outputs": [
    {
     "data": {
      "text/plain": [
       "array([0, 0, 9, 0, 4, 4, 3, 8, 4, 7])"
      ]
     },
     "execution_count": 63,
     "metadata": {},
     "output_type": "execute_result"
    }
   ],
   "source": [
    "a"
   ]
  },
  {
   "cell_type": "code",
   "execution_count": 67,
   "id": "e1bf02ae",
   "metadata": {},
   "outputs": [
    {
     "data": {
      "text/plain": [
       "[array([0, 0]), array([9, 0, 4]), array([4, 3, 8, 4, 7])]"
      ]
     },
     "execution_count": 67,
     "metadata": {},
     "output_type": "execute_result"
    }
   ],
   "source": [
    "np.split(a,[2,5])\n",
    "#2 ve 5 indexlerini vererek 3 parcaya bolduk bu arrayi"
   ]
  },
  {
   "cell_type": "code",
   "execution_count": 74,
   "id": "22d28364",
   "metadata": {},
   "outputs": [],
   "source": [
    "a,t,c = np.split(a,[2,5])"
   ]
  },
  {
   "cell_type": "code",
   "execution_count": 75,
   "id": "1280b588",
   "metadata": {},
   "outputs": [
    {
     "data": {
      "text/plain": [
       "array([0, 0])"
      ]
     },
     "execution_count": 75,
     "metadata": {},
     "output_type": "execute_result"
    }
   ],
   "source": [
    "a"
   ]
  },
  {
   "cell_type": "code",
   "execution_count": 77,
   "id": "e8261f24",
   "metadata": {},
   "outputs": [
    {
     "data": {
      "text/plain": [
       "array([], dtype=int64)"
      ]
     },
     "execution_count": 77,
     "metadata": {},
     "output_type": "execute_result"
    }
   ],
   "source": [
    "t"
   ]
  },
  {
   "cell_type": "code",
   "execution_count": 71,
   "id": "9d4e7549",
   "metadata": {},
   "outputs": [
    {
     "data": {
      "text/plain": [
       "array([4, 3, 8, 4, 7])"
      ]
     },
     "execution_count": 71,
     "metadata": {},
     "output_type": "execute_result"
    }
   ],
   "source": [
    "c"
   ]
  },
  {
   "cell_type": "code",
   "execution_count": 81,
   "id": "f6d1bf70",
   "metadata": {},
   "outputs": [],
   "source": [
    "b = np.array([[1,2,3],\n",
    "             [4,5,6]])"
   ]
  },
  {
   "cell_type": "code",
   "execution_count": 83,
   "id": "68540bb0",
   "metadata": {},
   "outputs": [
    {
     "data": {
      "text/plain": [
       "[array([[1, 2, 3],\n",
       "        [4, 5, 6]]),\n",
       " array([], shape=(0, 3), dtype=int64)]"
      ]
     },
     "execution_count": 83,
     "metadata": {},
     "output_type": "execute_result"
    }
   ],
   "source": [
    "np.vsplit(b,[2])\n",
    "#vertical split"
   ]
  },
  {
   "cell_type": "code",
   "execution_count": 85,
   "id": "221be7e1",
   "metadata": {},
   "outputs": [
    {
     "data": {
      "text/plain": [
       "[array([[1],\n",
       "        [4]]),\n",
       " array([[2, 3],\n",
       "        [5, 6]])]"
      ]
     },
     "execution_count": 85,
     "metadata": {},
     "output_type": "execute_result"
    }
   ],
   "source": [
    "np.hsplit(b,[1])\n",
    "#horizontal split"
   ]
  },
  {
   "cell_type": "code",
   "execution_count": 98,
   "id": "3a2f4ac3",
   "metadata": {},
   "outputs": [],
   "source": [
    "k = [[1,10,2],[3,9,6]]"
   ]
  },
  {
   "cell_type": "code",
   "execution_count": 99,
   "id": "f010d6ce",
   "metadata": {},
   "outputs": [
    {
     "data": {
      "text/plain": [
       "array([[ 1,  2, 10],\n",
       "       [ 3,  6,  9]])"
      ]
     },
     "execution_count": 99,
     "metadata": {},
     "output_type": "execute_result"
    }
   ],
   "source": [
    "np.sort(k)"
   ]
  },
  {
   "cell_type": "code",
   "execution_count": 100,
   "id": "08252faf",
   "metadata": {},
   "outputs": [
    {
     "data": {
      "text/plain": [
       "array([[ 1,  2, 10],\n",
       "       [ 3,  6,  9]])"
      ]
     },
     "execution_count": 100,
     "metadata": {},
     "output_type": "execute_result"
    }
   ],
   "source": [
    "np.sort(k, axis = 1)"
   ]
  },
  {
   "cell_type": "code",
   "execution_count": 101,
   "id": "2ec37706",
   "metadata": {},
   "outputs": [
    {
     "data": {
      "text/plain": [
       "array([[ 1,  9,  2],\n",
       "       [ 3, 10,  6]])"
      ]
     },
     "execution_count": 101,
     "metadata": {},
     "output_type": "execute_result"
    }
   ],
   "source": [
    "np.sort(k, axis = 0)"
   ]
  },
  {
   "cell_type": "code",
   "execution_count": 102,
   "id": "5e4d48d4",
   "metadata": {},
   "outputs": [
    {
     "data": {
      "text/plain": [
       "[[1, 10, 2], [3, 9, 6]]"
      ]
     },
     "execution_count": 102,
     "metadata": {},
     "output_type": "execute_result"
    }
   ],
   "source": [
    "k"
   ]
  },
  {
   "cell_type": "code",
   "execution_count": 5,
   "id": "270b0acd",
   "metadata": {},
   "outputs": [],
   "source": [
    "l = np.random.randint(1,5,[2,2])"
   ]
  },
  {
   "cell_type": "code",
   "execution_count": 6,
   "id": "adc85a9c",
   "metadata": {},
   "outputs": [
    {
     "data": {
      "text/plain": [
       "array([[3, 1],\n",
       "       [3, 4]])"
      ]
     },
     "execution_count": 6,
     "metadata": {},
     "output_type": "execute_result"
    }
   ],
   "source": [
    "l"
   ]
  },
  {
   "cell_type": "code",
   "execution_count": 7,
   "id": "9b4d906b",
   "metadata": {},
   "outputs": [
    {
     "data": {
      "text/plain": [
       "array([3, 1])"
      ]
     },
     "execution_count": 7,
     "metadata": {},
     "output_type": "execute_result"
    }
   ],
   "source": [
    "l[0]"
   ]
  },
  {
   "cell_type": "code",
   "execution_count": 8,
   "id": "19aaccb7",
   "metadata": {},
   "outputs": [
    {
     "data": {
      "text/plain": [
       "array([3, 4])"
      ]
     },
     "execution_count": 8,
     "metadata": {},
     "output_type": "execute_result"
    }
   ],
   "source": [
    "l[1]"
   ]
  },
  {
   "cell_type": "code",
   "execution_count": 9,
   "id": "aaee1d80",
   "metadata": {},
   "outputs": [
    {
     "data": {
      "text/plain": [
       "array([3, 4])"
      ]
     },
     "execution_count": 9,
     "metadata": {},
     "output_type": "execute_result"
    }
   ],
   "source": [
    "l[-1]"
   ]
  },
  {
   "cell_type": "code",
   "execution_count": 12,
   "id": "a4b491cc",
   "metadata": {},
   "outputs": [],
   "source": [
    "l = np.random.randint(10, size = [2,4])"
   ]
  },
  {
   "cell_type": "code",
   "execution_count": 13,
   "id": "dbe6486a",
   "metadata": {},
   "outputs": [
    {
     "data": {
      "text/plain": [
       "array([[4, 3, 6, 4],\n",
       "       [9, 9, 1, 0]])"
      ]
     },
     "execution_count": 13,
     "metadata": {},
     "output_type": "execute_result"
    }
   ],
   "source": [
    "l"
   ]
  },
  {
   "cell_type": "code",
   "execution_count": 14,
   "id": "56332b40",
   "metadata": {},
   "outputs": [
    {
     "data": {
      "text/plain": [
       "1"
      ]
     },
     "execution_count": 14,
     "metadata": {},
     "output_type": "execute_result"
    }
   ],
   "source": [
    "l[1,2]"
   ]
  },
  {
   "cell_type": "code",
   "execution_count": 16,
   "id": "928e9f38",
   "metadata": {},
   "outputs": [
    {
     "data": {
      "text/plain": [
       "array([[3],\n",
       "       [9]])"
      ]
     },
     "execution_count": 16,
     "metadata": {},
     "output_type": "execute_result"
    }
   ],
   "source": [
    "l[0:2,1:2]"
   ]
  },
  {
   "cell_type": "code",
   "execution_count": 17,
   "id": "e47368ce",
   "metadata": {},
   "outputs": [
    {
     "data": {
      "text/plain": [
       "array([6, 1])"
      ]
     },
     "execution_count": 17,
     "metadata": {},
     "output_type": "execute_result"
    }
   ],
   "source": [
    "l[:,2]"
   ]
  },
  {
   "cell_type": "code",
   "execution_count": 18,
   "id": "6d7ff106",
   "metadata": {},
   "outputs": [],
   "source": [
    "# alt kumeyi degistirince ana kume de degisir, bunu onlemek icin copy yapmalisin"
   ]
  },
  {
   "cell_type": "code",
   "execution_count": 19,
   "id": "18f304d7",
   "metadata": {},
   "outputs": [],
   "source": [
    "alt_l = l[0:2,1:2].copy()"
   ]
  },
  {
   "cell_type": "code",
   "execution_count": 20,
   "id": "cd1a85a5",
   "metadata": {},
   "outputs": [
    {
     "data": {
      "text/plain": [
       "array([[3],\n",
       "       [9]])"
      ]
     },
     "execution_count": 20,
     "metadata": {},
     "output_type": "execute_result"
    }
   ],
   "source": [
    "alt_l"
   ]
  },
  {
   "cell_type": "code",
   "execution_count": 24,
   "id": "30bad3ac",
   "metadata": {},
   "outputs": [
    {
     "data": {
      "text/plain": [
       "[9, 4]"
      ]
     },
     "execution_count": 24,
     "metadata": {},
     "output_type": "execute_result"
    }
   ],
   "source": [
    "[l[1,1], l[0,3]]"
   ]
  },
  {
   "cell_type": "code",
   "execution_count": 25,
   "id": "e1e83c4a",
   "metadata": {},
   "outputs": [],
   "source": [
    "m = np.arange(9).reshape(3,3)"
   ]
  },
  {
   "cell_type": "code",
   "execution_count": 26,
   "id": "eb14a5a3",
   "metadata": {},
   "outputs": [
    {
     "data": {
      "text/plain": [
       "array([[0, 1, 2],\n",
       "       [3, 4, 5],\n",
       "       [6, 7, 8]])"
      ]
     },
     "execution_count": 26,
     "metadata": {},
     "output_type": "execute_result"
    }
   ],
   "source": [
    "m"
   ]
  },
  {
   "cell_type": "code",
   "execution_count": 30,
   "id": "2fb60bfa",
   "metadata": {},
   "outputs": [],
   "source": [
    "satir = np.array([0,1])\n",
    "sutun = np.array([1,2])\n",
    "#biz aslinda bir sonraki islem icin index vermis olduk bu ifadelerle"
   ]
  },
  {
   "cell_type": "code",
   "execution_count": 29,
   "id": "89e7a161",
   "metadata": {},
   "outputs": [
    {
     "data": {
      "text/plain": [
       "array([1, 5])"
      ]
     },
     "execution_count": 29,
     "metadata": {},
     "output_type": "execute_result"
    }
   ],
   "source": [
    "m[satir,sutun]\n",
    "# 0.satir 1. sutun, ve 1.satir 2.sutun daki elemanlari ceker ve liste yapar"
   ]
  },
  {
   "cell_type": "code",
   "execution_count": 31,
   "id": "cf40afee",
   "metadata": {},
   "outputs": [
    {
     "data": {
      "text/plain": [
       "array([[ True,  True,  True],\n",
       "       [ True, False, False],\n",
       "       [False, False, False]])"
      ]
     },
     "execution_count": 31,
     "metadata": {},
     "output_type": "execute_result"
    }
   ],
   "source": [
    "m<4"
   ]
  },
  {
   "cell_type": "code",
   "execution_count": 33,
   "id": "5806a156",
   "metadata": {},
   "outputs": [
    {
     "data": {
      "text/plain": [
       "array([0, 1, 2, 3])"
      ]
     },
     "execution_count": 33,
     "metadata": {},
     "output_type": "execute_result"
    }
   ],
   "source": [
    "m[m<4]\n",
    "#kosulllu eleman islemleri"
   ]
  },
  {
   "cell_type": "code",
   "execution_count": 34,
   "id": "b6032264",
   "metadata": {},
   "outputs": [
    {
     "data": {
      "text/plain": [
       "array([0, 2, 4, 6, 8])"
      ]
     },
     "execution_count": 34,
     "metadata": {},
     "output_type": "execute_result"
    }
   ],
   "source": [
    "m[m%2==0]"
   ]
  },
  {
   "cell_type": "code",
   "execution_count": 35,
   "id": "8eddf7d8",
   "metadata": {},
   "outputs": [
    {
     "data": {
      "text/plain": [
       "array([[-1,  0,  1],\n",
       "       [ 2,  3,  4],\n",
       "       [ 5,  6,  7]])"
      ]
     },
     "execution_count": 35,
     "metadata": {},
     "output_type": "execute_result"
    }
   ],
   "source": [
    "m-1"
   ]
  },
  {
   "cell_type": "code",
   "execution_count": 39,
   "id": "5ba33ce9",
   "metadata": {},
   "outputs": [
    {
     "data": {
      "text/plain": [
       "array([[ 2,  3,  4],\n",
       "       [ 5,  6,  7],\n",
       "       [ 8,  9, 10]])"
      ]
     },
     "execution_count": 39,
     "metadata": {},
     "output_type": "execute_result"
    }
   ],
   "source": [
    "m+2"
   ]
  },
  {
   "cell_type": "code",
   "execution_count": 41,
   "id": "afb1cb49",
   "metadata": {},
   "outputs": [],
   "source": [
    "m = m +2"
   ]
  },
  {
   "cell_type": "code",
   "execution_count": 46,
   "id": "628adadb",
   "metadata": {},
   "outputs": [
    {
     "data": {
      "text/plain": [
       "array([[1.        , 1.5849625 , 2.        ],\n",
       "       [2.32192809, 2.5849625 , 2.80735492],\n",
       "       [3.        , 3.169925  , 3.32192809]])"
      ]
     },
     "execution_count": 46,
     "metadata": {},
     "output_type": "execute_result"
    }
   ],
   "source": [
    "np.log2(m)"
   ]
  },
  {
   "cell_type": "markdown",
   "id": "7d9c05f3",
   "metadata": {},
   "source": [
    "5 * x0 + x1 = 12\n",
    "\n",
    "x0 + 3 * x1 = 10\n",
    "\n",
    "bu iki bilinmeyenli denklemi nupy kullanarak cozecegiz"
   ]
  },
  {
   "cell_type": "code",
   "execution_count": 50,
   "id": "0058a45f",
   "metadata": {},
   "outputs": [],
   "source": [
    "a = np.array([[5,1], [1,3]])\n",
    "b = np.array([12,10])"
   ]
  },
  {
   "cell_type": "code",
   "execution_count": 51,
   "id": "8e4d2247",
   "metadata": {},
   "outputs": [],
   "source": [
    "x = np.linalg.solve(a,b)"
   ]
  },
  {
   "cell_type": "code",
   "execution_count": 52,
   "id": "2707d66b",
   "metadata": {},
   "outputs": [
    {
     "data": {
      "text/plain": [
       "array([1.85714286, 2.71428571])"
      ]
     },
     "execution_count": 52,
     "metadata": {},
     "output_type": "execute_result"
    }
   ],
   "source": [
    "x\n"
   ]
  },
  {
   "cell_type": "code",
   "execution_count": 53,
   "id": "e49d6f0e",
   "metadata": {},
   "outputs": [],
   "source": [
    "a =np.array([[4, 7, 4, 5, 9],\n",
    "\n",
    "            [2, 5, 0, 7, 7],\n",
    "\n",
    "            [1, 9, 0, 8, 2]])"
   ]
  },
  {
   "cell_type": "code",
   "execution_count": 54,
   "id": "2002d589",
   "metadata": {},
   "outputs": [
    {
     "data": {
      "text/plain": [
       "array([[4, 7, 4, 5, 9],\n",
       "       [2, 5, 0, 7, 7],\n",
       "       [1, 9, 0, 8, 2]])"
      ]
     },
     "execution_count": 54,
     "metadata": {},
     "output_type": "execute_result"
    }
   ],
   "source": [
    "a"
   ]
  },
  {
   "cell_type": "code",
   "execution_count": 55,
   "id": "c605ef96",
   "metadata": {},
   "outputs": [
    {
     "data": {
      "text/plain": [
       "array([[4, 7, 4],\n",
       "       [2, 5, 0]])"
      ]
     },
     "execution_count": 55,
     "metadata": {},
     "output_type": "execute_result"
    }
   ],
   "source": [
    "a[:2,:3]"
   ]
  },
  {
   "cell_type": "code",
   "execution_count": 56,
   "id": "a47639e2",
   "metadata": {},
   "outputs": [],
   "source": [
    "v = np.array([[0, 1, 2],\n",
    "\n",
    "             [3, 4, 5],\n",
    "\n",
    "             [6, 7, 8]]) "
   ]
  },
  {
   "cell_type": "code",
   "execution_count": 57,
   "id": "4beb99b8",
   "metadata": {},
   "outputs": [
    {
     "data": {
      "text/plain": [
       "array([[0, 1, 2],\n",
       "       [3, 4, 5],\n",
       "       [6, 7, 8]])"
      ]
     },
     "execution_count": 57,
     "metadata": {},
     "output_type": "execute_result"
    }
   ],
   "source": [
    "v"
   ]
  },
  {
   "cell_type": "code",
   "execution_count": 67,
   "id": "521490f3",
   "metadata": {},
   "outputs": [
    {
     "data": {
      "text/plain": [
       "array([4, 5])"
      ]
     },
     "execution_count": 67,
     "metadata": {},
     "output_type": "execute_result"
    }
   ],
   "source": [
    "v[1, [1,2]]"
   ]
  },
  {
   "cell_type": "code",
   "execution_count": null,
   "id": "d12cc8de",
   "metadata": {},
   "outputs": [],
   "source": []
  }
 ],
 "metadata": {
  "kernelspec": {
   "display_name": "Python 3",
   "language": "python",
   "name": "python3"
  },
  "language_info": {
   "codemirror_mode": {
    "name": "ipython",
    "version": 3
   },
   "file_extension": ".py",
   "mimetype": "text/x-python",
   "name": "python",
   "nbconvert_exporter": "python",
   "pygments_lexer": "ipython3",
   "version": "3.7.10"
  }
 },
 "nbformat": 4,
 "nbformat_minor": 5
}
